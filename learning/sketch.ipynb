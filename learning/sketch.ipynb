{
 "cells": [
  {
   "cell_type": "code",
   "execution_count": null,
   "metadata": {},
   "outputs": [],
   "source": [
    "import cv2\n",
    "import numpy as np\n",
    "from numpy import pi, cos, sin, sqrt\n",
    "from PIL import Image"
   ]
  },
  {
   "cell_type": "code",
   "execution_count": null,
   "metadata": {},
   "outputs": [],
   "source": [
    "def sketch1(path, rate=0.1, ):\n",
    "    img = np.asarray(Image.open(path).convert('L')).astype('float')\n",
    "    grad_x, grad_y = np.gradient(img)\n",
    "    grad_x, grad_y = grad_x*rate, grad_y*rate\n",
    "    A = sqrt(grad_x**2 + grad_y**2 + 1)\n",
    "    uni_x, uni_y, uni_z = grad_x/A, grad_y/A, 1/A\n",
    "    vec_el, vec_az = pi/2.2, pi/4\n",
    "    dx, dy, dz = cos(vec_el)*cos(vec_az), cos(vec_el)*sin(vec_az), sin(vec_el)\n",
    "    b = 255*(dx*uni_x + dy*uni_y + dz*uni_z).clip(0, 255)\n",
    "    return Image.fromarray(b.astype('uint8'))"
   ]
  },
  {
   "cell_type": "code",
   "execution_count": null,
   "metadata": {},
   "outputs": [],
   "source": [
    "def sketch2(path, k=15,):\n",
    "    img = cv2.imread(path)\n",
    "    img_gray = cv2.cvtColor(img, cv2.COLOR_RGB2GRAY)\n",
    "    img_blur = cv2.GaussianBlur(img_gray, ksize=(k, k),sigmaX=0, sigmaY=0)\n",
    "    img_out=cv2.divide(img_gray, img_blur, scale=255)\n",
    "    return Image.fromarray(img_out)"
   ]
  },
  {
   "cell_type": "code",
   "execution_count": null,
   "metadata": {},
   "outputs": [],
   "source": [
    "def sketch3(path, threshold=10):\n",
    "    img = Image.open(path)\n",
    "    if threshold < 0:\n",
    "        threshold = 0\n",
    "    if threshold > 100:\n",
    "        threshold = 100\n",
    "    width, height = img.size\n",
    "    img = img.convert('L')  # 转为灰度图\n",
    "    pixel = img.load()  # 获取灰度值\n",
    "    for w in range(width):\n",
    "        for h in range(height):\n",
    "            if w == width - 1 or h == height - 1:\n",
    "                continue\n",
    "            xy = pixel[w, h]\n",
    "            x1y1 = pixel[w + 1, h + 1]\n",
    "            diff = abs(xy - x1y1)\n",
    "            if diff >= threshold:\n",
    "                pixel[w, h] = 0 #灰度越大越白，代表是轮廓\n",
    "            else:\n",
    "                pixel[w, h] = 255 #灰度越大越白，代表是轮廓\n",
    "    return img"
   ]
  },
  {
   "cell_type": "code",
   "execution_count": null,
   "metadata": {},
   "outputs": [],
   "source": []
  },
  {
   "cell_type": "code",
   "execution_count": null,
   "metadata": {},
   "outputs": [],
   "source": []
  }
 ],
 "metadata": {
  "kernelspec": {
   "display_name": "Python 3",
   "language": "python",
   "name": "python3"
  },
  "language_info": {
   "codemirror_mode": {
    "name": "ipython",
    "version": 3
   },
   "file_extension": ".py",
   "mimetype": "text/x-python",
   "name": "python",
   "nbconvert_exporter": "python",
   "pygments_lexer": "ipython3",
   "version": "3.7.3"
  }
 },
 "nbformat": 4,
 "nbformat_minor": 4
}
